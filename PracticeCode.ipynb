{
 "cells": [
  {
   "cell_type": "markdown",
   "id": "eb73a304",
   "metadata": {},
   "source": [
    "## ML Practice"
   ]
  },
  {
   "cell_type": "code",
   "execution_count": 1,
   "id": "ba86fdb3",
   "metadata": {},
   "outputs": [],
   "source": [
    "import numpy as np\n",
    "import matplotlib.pyplot as plt\n",
    "from sklearn.datasets import make_blobs\n",
    "from sklearn.svm import SVC\n",
    "from sklearn.model_selection import train_test_split\n",
    "from sklearn.metrics import classification_report, confusion_matrix"
   ]
  },
  {
   "cell_type": "code",
   "execution_count": 2,
   "id": "f95fc5a3",
   "metadata": {},
   "outputs": [],
   "source": [
    "#Sample Data\n",
    "X, y = make_blobs(n_samples=100, centers=2, random_state=42, cluster_std=1.2)"
   ]
  },
  {
   "cell_type": "code",
   "execution_count": 3,
   "id": "f5e97bd0",
   "metadata": {},
   "outputs": [],
   "source": [
    "#Train-Test Split\n",
    "X_train, X_test, y_train, y_test = train_test_split(X, y, test_size=0.3, random_state=42)"
   ]
  },
  {
   "cell_type": "code",
   "execution_count": null,
   "id": "bdeef4c8",
   "metadata": {},
   "outputs": [],
   "source": []
  }
 ],
 "metadata": {
  "kernelspec": {
   "display_name": "Python 3 (ipykernel)",
   "language": "python",
   "name": "python3"
  },
  "language_info": {
   "codemirror_mode": {
    "name": "ipython",
    "version": 3
   },
   "file_extension": ".py",
   "mimetype": "text/x-python",
   "name": "python",
   "nbconvert_exporter": "python",
   "pygments_lexer": "ipython3",
   "version": "3.7.0"
  }
 },
 "nbformat": 4,
 "nbformat_minor": 5
}
