{
 "cells": [
  {
   "cell_type": "code",
   "execution_count": 1,
   "id": "e87a05c2",
   "metadata": {},
   "outputs": [],
   "source": [
    "import numpy as np\n",
    "import matplotlib.pyplot as plt\n",
    "from sklearn.model_selection import train_test_split\n",
    "from sklearn.linear_model import LogisticRegression\n",
    "from sklearn.metrics import accuracy_score, confusion_matrix, classification_report"
   ]
  },
  {
   "cell_type": "code",
   "execution_count": 11,
   "id": "d355695f",
   "metadata": {},
   "outputs": [],
   "source": [
    "data = np.array([\n",
    "    [1, 40, 0],\n",
    "    [2, 50, 0],\n",
    "    [3, 55, 0],\n",
    "    [4, 60, 0],\n",
    "    [5, 65, 1],\n",
    "    [6, 70, 1],\n",
    "    [7, 75, 1],\n",
    "    [8, 80, 1],\n",
    "    [9, 85, 1],\n",
    "    [10, 90, 1],\n",
    "    [1, 30, 0],\n",
    "    [2, 35, 0],\n",
    "    [3, 40, 0],\n",
    "    [4, 45, 0],\n",
    "    [5, 50, 0],\n",
    "    [6, 55, 1],\n",
    "    [7, 60, 1],\n",
    "    [8, 65, 1],\n",
    "    [9, 70, 1],\n",
    "    [10, 75, 1],\n",
    "    [2, 45, 0],\n",
    "    [3, 48, 0],\n",
    "    [4, 52, 0],\n",
    "    [5, 60, 1],\n",
    "    [6, 62, 1],\n",
    "    [7, 68, 1],\n",
    "    [8, 74, 1],\n",
    "    [9, 80, 1],\n",
    "    [10, 85, 1],\n",
    "    [5, 55, 1],\n",
    "    [6, 60, 1],\n",
    "    [7, 65, 1],\n",
    "    [8, 70, 1],\n",
    "    [9, 75, 1],\n",
    "    [10, 80, 1],\n",
    "    [2, 40, 0],\n",
    "    [3, 45, 0],\n",
    "    [4, 50, 0],\n",
    "    [5, 55, 1],\n",
    "    [6, 60, 1],\n",
    "    [7, 65, 1],\n",
    "    [8, 70, 1],\n",
    "    [9, 75, 1],\n",
    "    [10, 80, 1]\n",
    "])\n"
   ]
  },
  {
   "cell_type": "code",
   "execution_count": 12,
   "id": "ff28d632",
   "metadata": {},
   "outputs": [],
   "source": [
    "X = data[:, :2] \n",
    "y = data[:, 2]"
   ]
  },
  {
   "cell_type": "code",
   "execution_count": 30,
   "id": "5f56c58f",
   "metadata": {},
   "outputs": [],
   "source": [
    "X_train, X_test, y_train, y_test = train_test_split(X, y, test_size=0.2, random_state=42)"
   ]
  },
  {
   "cell_type": "code",
   "execution_count": 31,
   "id": "4111f114",
   "metadata": {},
   "outputs": [
    {
     "data": {
      "text/plain": [
       "LogisticRegression()"
      ]
     },
     "execution_count": 31,
     "metadata": {},
     "output_type": "execute_result"
    }
   ],
   "source": [
    "model = LogisticRegression()\n",
    "model.fit(X_train, y_train)"
   ]
  },
  {
   "cell_type": "code",
   "execution_count": 32,
   "id": "feb854ee",
   "metadata": {},
   "outputs": [],
   "source": [
    "y_pred = model.predict(X_test)"
   ]
  },
  {
   "cell_type": "code",
   "execution_count": 33,
   "id": "93396183",
   "metadata": {},
   "outputs": [
    {
     "name": "stdout",
     "output_type": "stream",
     "text": [
      "Hours Studies: 4, Attendance: 50, Pass: False\n",
      "Hours Studies: 6, Attendance: 62, Pass: True\n",
      "Hours Studies: 7, Attendance: 68, Pass: True\n",
      "Hours Studies: 3, Attendance: 45, Pass: False\n",
      "Hours Studies: 10, Attendance: 80, Pass: True\n",
      "Hours Studies: 7, Attendance: 65, Pass: True\n",
      "Hours Studies: 5, Attendance: 65, Pass: True\n",
      "Hours Studies: 3, Attendance: 40, Pass: False\n",
      "Hours Studies: 9, Attendance: 85, Pass: True\n"
     ]
    }
   ],
   "source": [
    "for i in range(len(X_test)):\n",
    "    print(f\"Hours Studies: {X_test[i][0]}, Attendance: {X_test[i][1]}, Pass: {True if (y_test[i]) else False}\")"
   ]
  },
  {
   "cell_type": "code",
   "execution_count": 34,
   "id": "cd6ee0f4",
   "metadata": {},
   "outputs": [
    {
     "name": "stdout",
     "output_type": "stream",
     "text": [
      "Accuracy: 1.00\n"
     ]
    }
   ],
   "source": [
    "accuracy = accuracy_score(y_test, y_pred)\n",
    "print(f\"Accuracy: {accuracy:.2f}\")"
   ]
  },
  {
   "cell_type": "code",
   "execution_count": 35,
   "id": "56b7117b",
   "metadata": {},
   "outputs": [
    {
     "name": "stdout",
     "output_type": "stream",
     "text": [
      "\n",
      "Confusion Matrix:\n",
      "[[3 0]\n",
      " [0 6]]\n",
      "\n",
      "Classification Report:\n",
      "              precision    recall  f1-score   support\n",
      "\n",
      "           0       1.00      1.00      1.00         3\n",
      "           1       1.00      1.00      1.00         6\n",
      "\n",
      "    accuracy                           1.00         9\n",
      "   macro avg       1.00      1.00      1.00         9\n",
      "weighted avg       1.00      1.00      1.00         9\n",
      "\n"
     ]
    }
   ],
   "source": [
    "print(\"\\nConfusion Matrix:\")\n",
    "print(confusion_matrix(y_test, y_pred))\n",
    "\n",
    "print(\"\\nClassification Report:\")\n",
    "print(classification_report(y_test, y_pred))"
   ]
  },
  {
   "cell_type": "code",
   "execution_count": 36,
   "id": "9c7648ef",
   "metadata": {},
   "outputs": [
    {
     "data": {
      "image/png": "[encoded data removed]",
      "text/plain": [
       "<Figure size 640x480 with 1 Axes>"
      ]
     },
     "metadata": {},
     "output_type": "display_data"
    }
   ],
   "source": [
    "def plot_decision_boundary(model, X, y):\n",
    "    x_min, x_max = X[:, 0].min() - 1, X[:, 0].max() + 1\n",
    "    y_min, y_max = X[:, 1].min() - 1, X[:, 1].max() + 1\n",
    "    xx, yy = np.meshgrid(np.arange(x_min, x_max, 0.1),\n",
    "                         np.arange(y_min, y_max, 0.1))\n",
    "    Z = model.predict(np.c_[xx.ravel(), yy.ravel()])\n",
    "    Z = Z.reshape(xx.shape)\n",
    "    plt.contourf(xx, yy, Z, alpha=0.8, cmap=plt.cm.coolwarm)\n",
    "    plt.scatter(X[:, 0], X[:, 1], c=y, edgecolor='k', cmap=plt.cm.coolwarm)\n",
    "    plt.xlabel('Hours Studied')\n",
    "    plt.ylabel('Attendance Rate')\n",
    "    plt.title('Logistic Regression Decision Boundary')\n",
    "    plt.show()\n",
    "\n",
    "plot_decision_boundary(model, X, y)"
   ]
  },
  {
   "cell_type": "code",
   "execution_count": null,
   "id": "ce7287c5",
   "metadata": {},
   "outputs": [],
   "source": []
  }
 ],
 "metadata": {
  "kernelspec": {
   "display_name": "Python 3 (ipykernel)",
   "language": "python",
   "name": "python3"
  },
  "language_info": {
   "codemirror_mode": {
    "name": "ipython",
    "version": 3
   },
   "file_extension": ".py",
   "mimetype": "text/x-python",
   "name": "python",
   "nbconvert_exporter": "python",
   "pygments_lexer": "ipython3",
   "version": "3.7.0"
  }
 },
 "nbformat": 4,
 "nbformat_minor": 5
}
